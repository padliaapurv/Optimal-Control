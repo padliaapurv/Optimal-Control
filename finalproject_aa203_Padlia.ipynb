{
  "nbformat": 4,
  "nbformat_minor": 0,
  "metadata": {
    "colab": {
      "provenance": []
    },
    "kernelspec": {
      "name": "python3",
      "display_name": "Python 3"
    },
    "language_info": {
      "name": "python"
    }
  },
  "cells": [
    {
      "cell_type": "code",
      "execution_count": 1,
      "metadata": {
        "id": "iloM2OkFr5My"
      },
      "outputs": [],
      "source": [
        "#imports\n",
        "import numpy as np\n",
        "import cvxpy as cp\n",
        "import matplotlib.pyplot as plt"
      ]
    },
    {
      "cell_type": "markdown",
      "source": [
        "Quadcopter parameters"
      ],
      "metadata": {
        "id": "aQwqvRl1YHQa"
      }
    },
    {
      "cell_type": "code",
      "source": [
        "#quadcopter parameters\n",
        "g = 9.81\n",
        "m = 1.\n",
        "Ix = 8.1 * 1e-3\n",
        "Iy = 8.1 * 1e-3\n",
        "Iz = 14.2 * 1e-3"
      ],
      "metadata": {
        "id": "s1drQS5TYKeI"
      },
      "execution_count": 2,
      "outputs": []
    },
    {
      "cell_type": "markdown",
      "source": [
        "Non-linear dynamcis"
      ],
      "metadata": {
        "id": "V9vBX3Q1sbKi"
      }
    },
    {
      "cell_type": "code",
      "source": [
        "#non-linear dynamics\n",
        "def f(x, u):\n",
        "    x1, x2, theta1, theta2, y1, y2, phi1, phi2, z1, z2, psi1, psi2 = x.reshape(-1).tolist()\n",
        "    tau_y, tau_x, ft, tau_z = u.reshape(-1).tolist()\n",
        "    dot_x = np.array([\n",
        "     x2,\n",
        "     ft/m*(np.sin(phi1)*np.sin(psi1)+np.cos(phi1)*np.cos(psi1)*np.sin(theta1)),\n",
        "     theta2,\n",
        "     (Iz-Ix)/Iy*phi2*psi2+tau_y/Iy,\n",
        "     y2,\n",
        "     ft/m*(np.cos(phi1)*np.sin(psi1)*np.sin(theta1)-np.cos(psi1)*np.sin(phi1)),\n",
        "     phi2,\n",
        "     (Iy-Iz)/Ix*theta2*psi2+tau_x/Ix,\n",
        "     z2,\n",
        "     -g + ft/m*np.cos(phi1)*np.cos(theta1),# \n",
        "     psi2,\n",
        "     (Ix-Iy)/Iz*phi2*theta2+tau_z/Iz])\n",
        "    return dot_x"
      ],
      "metadata": {
        "id": "qJuiM52oRStp"
      },
      "execution_count": 3,
      "outputs": []
    },
    {
      "cell_type": "markdown",
      "source": [
        "Linear model"
      ],
      "metadata": {
        "id": "FKm07K8Oz5uo"
      }
    },
    {
      "cell_type": "code",
      "source": [
        "# X-subsystem\n",
        "# The state variables are x, dot_x, pitch, dot_pitch\n",
        "Ax = np.array(\n",
        "    [[0.0, 1.0, 0.0, 0.0],\n",
        "     [0.0, 0.0, g, 0.0],\n",
        "     [0.0, 0.0, 0.0, 1.0],\n",
        "     [0.0, 0.0, 0.0, 0.0]])\n",
        "Bx = np.array(\n",
        "    [[0.0],\n",
        "     [0.0],\n",
        "     [0.0],\n",
        "     [1 / Ix]])\n",
        "\n",
        "# Y-subsystem\n",
        "# The state variables are y, dot_y, roll, dot_roll\n",
        "Ay = np.array(\n",
        "    [[0.0, 1.0, 0.0, 0.0],\n",
        "     [0.0, 0.0, -g, 0.0],\n",
        "     [0.0, 0.0, 0.0, 1.0],\n",
        "     [0.0, 0.0, 0.0, 0.0]])\n",
        "By = np.array(\n",
        "    [[0.0],\n",
        "     [0.0],\n",
        "     [0.0],\n",
        "     [1 / Iy]])\n",
        "\n",
        "# Z-subsystem\n",
        "# The state variables are z, dot_z\n",
        "Az = np.array(\n",
        "    [[0.0, 1.0],\n",
        "     [0.0, 0.0]])\n",
        "Bz = np.array(\n",
        "    [[0.0],\n",
        "     [1 / m]])\n",
        "\n",
        "# Yaw-subsystem\n",
        "# The state variables are yaw, dot_yaw\n",
        "Ayaw = np.array(\n",
        "    [[0.0, 1.0],\n",
        "     [0.0, 0.0]])\n",
        "Byaw = np.array(\n",
        "    [[0.0],\n",
        "     [1 / Iz]])\n",
        "\n",
        "A1 = np.concatenate((Ax, np.zeros((4,8))), axis = 1)\n",
        "A2 = np.concatenate((np.zeros((4,4)), Ay, np.zeros((4,4))),axis = 1)\n",
        "A3 = np.concatenate((np.zeros((2,8)), Az, np.zeros((2,2))),axis = 1)\n",
        "A4 = np.concatenate((np.zeros((2,10)), Ayaw), axis = 1)\n",
        "\n",
        "B1 = np.concatenate((Bx, np.zeros((4,3))), axis = 1)\n",
        "B2 = np.concatenate((np.zeros((4,1)), By, np.zeros((4,2))),axis = 1)\n",
        "B3 = np.concatenate((np.zeros((2,2)), Bz, np.zeros((2,1))),axis = 1)\n",
        "B4 = np.concatenate((np.zeros((2,3)), Byaw), axis = 1)\n",
        "\n",
        "A = np.concatenate((A1,A2,A3,A4))\n",
        "B = np.concatenate((B1,B2,B3,B4))"
      ],
      "metadata": {
        "id": "r0ymWKe-z47K"
      },
      "execution_count": 4,
      "outputs": []
    },
    {
      "cell_type": "markdown",
      "source": [
        "MRAC"
      ],
      "metadata": {
        "id": "nmn01L2Qavef"
      }
    },
    {
      "cell_type": "code",
      "source": [
        "def mrac(Aold,Bold,x0,x1,u,dt):\n",
        "    try:\n",
        "\n",
        "        A = cp.Variable((12,12))\n",
        "        B = cp.Variable((12,4))\n",
        "\n",
        "        cost = cp.norm(A - Aold, \"fro\") + cp.norm(B - Bold, \"fro\")\n",
        "        constraints = [x1 == x0 + (A@x0 + B@u + B@[0,0,-9.81,0])*dt]\n",
        "\n",
        "        prob = cp.Problem(cp.Minimize(cost), constraints)\n",
        "\n",
        "        prob.solve()\n",
        "\n",
        "        print(prob.status)\n",
        "\n",
        "        if prob.status == \"infeasible\":\n",
        "            return False\n",
        "\n",
        "        return A.value, B.value\n",
        "\n",
        "    except:\n",
        "        return False"
      ],
      "metadata": {
        "id": "MeUt_4hvavMn"
      },
      "execution_count": 5,
      "outputs": []
    },
    {
      "cell_type": "markdown",
      "source": [
        "MPC"
      ],
      "metadata": {
        "id": "IcED4pya88wG"
      }
    },
    {
      "cell_type": "code",
      "source": [
        "def mpc(A,B,Q,R,P,x0,x_traj,track,N,posX,posN,dt,N0):\n",
        "\n",
        "    if track == 0:\n",
        "        x_opt = cp.Variable((N+1,12))\n",
        "        u_opt = cp.Variable((N,4))\n",
        "    else: \n",
        "        x_opt = cp.Variable((track*N+1,12))\n",
        "        u_opt = cp.Variable((track*N,4))\n",
        "\n",
        "    termX = posX + track + 1\n",
        "\n",
        "    if posN == 0:\n",
        "        termX -= 1\n",
        "\n",
        "    if termX >= len(x_traj):\n",
        "        termX = len(x_traj) - 1\n",
        "\n",
        "    cost = cp.quad_form(x_opt[-1] - x_traj[termX], P)\n",
        "    constraints = [x0 == x_opt[0]] #[x0[0] == x_opt[0][0], x0[4] == x_opt[0][4], x0[8] == x_opt[0][8]]\n",
        "    \n",
        "    if posN != 0:\n",
        "        constraints += [x_traj[posX+1][0] == x_opt[N0-posN][0], x_traj[posX+1][4] == x_opt[N0-posN][4], x_traj[posX+1][8] == x_opt[N0-posN][8]]\n",
        "    \n",
        "    for i in range(track-1):\n",
        "        if posX < len(x_traj) - track - i:\n",
        "            constraints += [x_traj[posX+2 + i][0] == x_opt[(i+1)*N + N-posN][0], x_traj[posX+2 + i][4] == x_opt[(i+1)*N + N-posN][4], x_traj[posX+2 + i][8] == x_opt[(i+1)*N + N-posN][8]]\n",
        "  \n",
        "    for i in range(track*N):\n",
        "        cost += cp.quad_form(x_opt[i] - x_traj[termX],Q) + cp.quad_form(u_opt[i],R)\n",
        "        constraints += [x_opt[i+1] == x_opt[i] + dt*(A@x_opt[i] + B@u_opt[i] + B@[0,0,-9.81,0])]\n",
        "\n",
        "    if track == 0:\n",
        "        for i in range(N):\n",
        "            cost += cp.quad_form(x_opt[i] - x_traj[termX],Q) + cp.quad_form(u_opt[i],R)\n",
        "            constraints += [x_opt[i+1] == x_opt[i] + dt*(A@x_opt[i] + B@u_opt[i] + B@[0,0,-9.81,0])]\n",
        "\n",
        "    prob = cp.Problem(cp.Minimize(cost), constraints)\n",
        "\n",
        "    prob.solve()\n",
        "\n",
        "    #print(prob.status)\n",
        "\n",
        "    if prob.status == \"infeasible\":\n",
        "        return False\n",
        "\n",
        "    return x_opt.value, u_opt.value\n"
      ],
      "metadata": {
        "id": "SQj16V_-5JHe"
      },
      "execution_count": 6,
      "outputs": []
    },
    {
      "cell_type": "markdown",
      "source": [
        "MPC Parameters"
      ],
      "metadata": {
        "id": "BPemuNoKPMOe"
      }
    },
    {
      "cell_type": "code",
      "source": [
        "#MPC parameters 1\n",
        "q = 1\n",
        "r = 1\n",
        "p = 1\n",
        "Q = q*np.identity(12)\n",
        "R = p*np.identity(4)\n",
        "P = r*np.identity(12)\n",
        "\n",
        "N = 25\n",
        "N0 = N\n",
        "dt = 0.01\n",
        "track = 3\n",
        "\n",
        "x_traj = np.array([\n",
        "                  [0.0,0.0,0.0,0.0, 0.0,0.0,0.0,0.0, 0.0,0.0,0.0,0.0],\\\n",
        "                  [1.0,0.0,0.0,0.0, 0.0,0.0,0.0,0.0, 1.0,0.0,0.0,0.0],\\\n",
        "                  [2.0,0.0,0.0,0.0, 1.0,0.0,0.0,0.0, 2.0,0.0,0.0,0.0],\\\n",
        "                  [2.0,0.0,0.0,0.0, 2.0,0.0,0.0,0.0, 2.0,0.0,0.0,0.0],\\\n",
        "                  [2.0,0.0,0.0,0.0, 2.0,0.0,0.0,0.0, 2.0,0.0,0.0,0.0],\\\n",
        "                  [2.0,0.0,0.0,0.0, 2.0,0.0,0.0,0.0, 2.0,0.0,0.0,0.0],\\\n",
        "                  ])\n",
        "\n",
        "x_traj = x_traj/100"
      ],
      "metadata": {
        "id": "gjDAm4FvMlwX"
      },
      "execution_count": null,
      "outputs": []
    },
    {
      "cell_type": "code",
      "source": [
        "#MPC parameters 2\n",
        "q = 1\n",
        "r = 1\n",
        "p = 1\n",
        "Q = q*np.identity(12)\n",
        "R = p*np.identity(4)\n",
        "P = r*np.identity(12)\n",
        "\n",
        "N = 25\n",
        "N0 = N\n",
        "dt = 0.01\n",
        "track = 3\n",
        "\n",
        "x_traj = np.array([\n",
        "                  [0.0,0.0,0.0,0.0, 0.0,0.0,0.0,0.0, 2.0,0.0,0.0,0.0],\\\n",
        "                  [1.0,0.0,0.0,0.0, 0.0,0.0,0.0,0.0, 2.0,0.0,0.0,0.0],\\\n",
        "                  [2.0,0.0,0.0,0.0, 0.0,0.0,0.0,0.0, 2.0,0.0,0.0,0.0],\\\n",
        "                  [3.0,0.0,0.0,0.0, 0.0,0.0,0.0,0.0, 2.0,0.0,0.0,0.0],\\\n",
        "                  [2.0,0.0,0.0,0.0, 0.0,0.0,0.0,0.0, 2.0,0.0,0.0,0.0],\\\n",
        "                  [1.0,0.0,0.0,0.0, 0.0,0.0,0.0,0.0, 2.0,0.0,0.0,0.0],\\\n",
        "                  ])\n",
        "\n",
        "x_traj = x_traj/100"
      ],
      "metadata": {
        "id": "UQ7Xkph8ONVk"
      },
      "execution_count": null,
      "outputs": []
    },
    {
      "cell_type": "code",
      "source": [
        "#MPC parameters 3\n",
        "q = 1\n",
        "r = 1\n",
        "p = 1\n",
        "Q = q*np.identity(12)\n",
        "R = p*np.identity(4)\n",
        "P = r*np.identity(12)\n",
        "\n",
        "N = 25\n",
        "N0 = N\n",
        "dt = 0.01\n",
        "track = 3\n",
        "\n",
        "x_traj = np.array([\n",
        "                  [0.0,0.0,0.0,0.0, 0.0,0.0,0.0,0.0, 2.0,0.0,0.0,0.0],\\\n",
        "                  [1.0,0.0,0.0,0.0, 0.0,0.0,0.0,0.0, 2.0,0.0,0.0,0.0],\\\n",
        "                  [1.0,0.0,0.0,0.0, 1.0,0.0,0.0,0.0, 2.0,0.0,0.0,0.0],\\\n",
        "                  [0.0,0.0,0.0,0.0, 1.0,0.0,0.0,0.0, 2.0,0.0,0.0,0.0],\\\n",
        "                  [0.0,0.0,0.0,0.0, 0.0,0.0,0.0,0.0, 4.0,0.0,0.0,0.0],\\\n",
        "                  [1.0,0.0,0.0,0.0, 0.0,0.0,0.0,0.0, 4.0,0.0,0.0,0.0],\\\n",
        "                  ])\n",
        "\n",
        "x_traj = x_traj/100"
      ],
      "metadata": {
        "id": "uMXbY71j876g"
      },
      "execution_count": 7,
      "outputs": []
    },
    {
      "cell_type": "code",
      "source": [
        "#MPC parameters 4\n",
        "q = 1\n",
        "r = 1\n",
        "p = 1\n",
        "Q = q*np.identity(12)\n",
        "R = p*np.identity(4)\n",
        "P = r*np.identity(12)\n",
        "\n",
        "N = 25\n",
        "N0 = N\n",
        "dt = 0.01\n",
        "track = 3\n",
        "\n",
        "x_traj = np.array([\n",
        "                  [0.0,0.0,0.0,0.0, 0.0,0.0,0.0,0.0, 2.0,0.0,0.0,0.0],\\\n",
        "                  [1.0,0.0,0.0,0.0, 0.0,0.0,0.0,0.0, 2.0,0.0,0.0,0.0],\\\n",
        "                  [1.0,0.0,0.0,0.0, 0.0,0.0,0.0,0.0, 2.0,0.0,0.0,0.0],\\\n",
        "                  [1.0,0.0,0.0,0.0, 1.0,0.0,0.0,0.0, 2.0,0.0,0.0,0.0],\\\n",
        "                  [1.0,0.0,0.0,0.0, 2.0,0.0,0.0,0.0, 2.0,0.0,0.0,0.0],\\\n",
        "                  [1.0,0.0,0.0,0.0, 4.0,0.0,0.0,0.0, 2.0,0.0,0.0,0.0],\\\n",
        "                  ])\n",
        "\n",
        "x_traj = x_traj/100"
      ],
      "metadata": {
        "id": "rnZChqPLPDKz"
      },
      "execution_count": 7,
      "outputs": []
    },
    {
      "cell_type": "code",
      "source": [
        "#MPC parameters 5\n",
        "q = 1\n",
        "r = 1\n",
        "p = 1\n",
        "Q = q*np.identity(12)\n",
        "R = p*np.identity(4)\n",
        "P = r*np.identity(12)\n",
        "\n",
        "N = 25\n",
        "N0 = N\n",
        "dt = 0.01\n",
        "track = 3\n",
        "\n",
        "x_traj = np.array([\n",
        "                  [0.0,0.0,0.0,0.0, 0.0,0.0,0.0,0.0, 2.0,0.0,0.0,0.0],\\\n",
        "                  [1.0,0.0,0.0,0.0, 1.0,0.0,0.0,0.0, 2.0,0.0,0.0,0.0],\\\n",
        "                  [1.0,0.0,0.0,0.0, 1.0,0.0,0.0,0.0, 2.0,0.0,0.0,0.0],\\\n",
        "                  [1.0,0.0,0.0,0.0, 1.0,0.0,0.0,0.0, 3.0,0.0,0.0,0.0],\\\n",
        "                  [1.0,0.0,0.0,0.0, 1.0,0.0,0.0,0.0, 3.0,0.0,0.0,0.0],\\\n",
        "                  [0.0,0.0,0.0,0.0, 0.0,0.0,0.0,0.0, 3.0,0.0,0.0,0.0],\\\n",
        "                  ])\n",
        "\n",
        "x_traj = x_traj/100"
      ],
      "metadata": {
        "id": "X0BgxN8xUAgk"
      },
      "execution_count": 7,
      "outputs": []
    },
    {
      "cell_type": "markdown",
      "source": [
        "Simulation"
      ],
      "metadata": {
        "id": "rYh_VJndPPkk"
      }
    },
    {
      "cell_type": "code",
      "source": [
        "#simulate\n",
        "\n",
        "plotX = []\n",
        "plotY = []\n",
        "plotZ = []\n",
        "flag = 0\n",
        "X = np.array([0.0,0.0,0.0,0.0, 0.0,0.0,0.0,0.0, 0.0,0.0,0.0,0.0])\n",
        "print(X)\n",
        "for i in range(len(x_traj)-1):\n",
        "    if i + track == len(x_traj) - 1:\n",
        "        track -= 1\n",
        "\n",
        "    for j in range(N):\n",
        "\n",
        "        if mpc(A,B,Q,R,P,X,x_traj,track,N,i,j,dt,N0) == False: \n",
        "\n",
        "            Xprev = X\n",
        "            X = X + f(X,np.zeros(4))*dt\n",
        "            print(\"non\")\n",
        "\n",
        "            if mrac(A,B,Xprev,X,np.zeros(4),dt) == False: \n",
        "                pass\n",
        "\n",
        "            else: \n",
        "                A,B = mrac(A,B,Xprev,X,np.zeros(4),dt)\n",
        "        \n",
        "        else:\n",
        "            x_mpc, u_mpc = mpc(A,B,Q,R,P,X,x_traj,track,N,i,j,dt,N0)\n",
        "        \n",
        "            X = X + f(X,u_mpc[0])*dt\n",
        "\n",
        "            print(\"done\",i,j)\n",
        "\n",
        "        #X = np.array(x_mpc[1])\n",
        "\n",
        "            if mrac(A,B,x_mpc[0],X,u_mpc[0],dt) == False: \n",
        "                pass\n",
        "            else: \n",
        "                A,B = mrac(A,B,x_mpc[0],X,u_mpc[0],dt)\n",
        "        \n",
        "\n",
        "        plotX.append(X[0]*100)\n",
        "        plotY.append(X[4]*100)\n",
        "        plotZ.append(X[8]*100)\n",
        "\n",
        "        if track == 0:\n",
        "            N = N-1\n"
      ],
      "metadata": {
        "id": "XYSKJfopBqGo"
      },
      "execution_count": null,
      "outputs": []
    },
    {
      "cell_type": "markdown",
      "source": [
        "Outputs"
      ],
      "metadata": {
        "id": "h_jUj62WPRWb"
      }
    },
    {
      "cell_type": "code",
      "source": [
        "#plot 1\n",
        "trackX = []\n",
        "trackY = []\n",
        "trackZ = []\n",
        "for i in x_traj:\n",
        "    trackX.append(i[0]*100)\n",
        "    trackY.append(i[4]*100)\n",
        "    trackZ.append(i[8]*100) \n",
        "\n",
        "track = []\n",
        "for j in range(len(x_traj)):\n",
        "    track.append(j*N0)   \n",
        "\n",
        "\n",
        "plt.subplot(311)\n",
        "plt.plot(plotX, color = \"blue\")\n",
        "plt.plot(track, trackX, \"o\", color = \"blue\")\n",
        "plt.legend([\"X\"])\n",
        "plt.subplot(312)\n",
        "plt.plot(plotY, color = \"orange\")\n",
        "plt.plot(track, trackY, \"o\", color = \"orange\")\n",
        "plt.legend([\"Y\"])\n",
        "plt.subplot(313)\n",
        "plt.plot(plotZ, color = \"green\")\n",
        "plt.plot(track, trackZ, \"o\", color = \"green\")\n",
        "plt.legend([\"Z\"])"
      ],
      "metadata": {
        "id": "kU7ssIHxqbfP"
      },
      "execution_count": null,
      "outputs": []
    },
    {
      "cell_type": "code",
      "source": [
        "#plot 2\n",
        "ax = plt.figure().add_subplot(projection='3d')\n",
        "ax.plot(plotX, plotY, plotZ)\n",
        "ax.plot(trackX, trackY, trackZ,\"*\")"
      ],
      "metadata": {
        "id": "zeH50TEY3FXg"
      },
      "execution_count": null,
      "outputs": []
    },
    {
      "cell_type": "code",
      "source": [
        "print(trackX, trackY, trackZ)"
      ],
      "metadata": {
        "id": "o_qQsx9iR_kL"
      },
      "execution_count": null,
      "outputs": []
    }
  ]
}